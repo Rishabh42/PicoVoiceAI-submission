{
 "cells": [
  {
   "cell_type": "code",
   "execution_count": 48,
   "metadata": {},
   "outputs": [],
   "source": [
    "# from typing import Sequence\n",
    "import numpy as np\n",
    "from typing import List\n",
    "import random\n"
   ]
  },
  {
   "cell_type": "markdown",
   "metadata": {},
   "source": [
    "## Q1"
   ]
  },
  {
   "cell_type": "code",
   "execution_count": 73,
   "metadata": {},
   "outputs": [],
   "source": [
    "# def prob_rain_more_than_n(p: Sequence[float], n: int) -> float:\n",
    "#     days = len(p)\n",
    "    \n",
    "#     # DP array to store probabilities of exactly k rainy days for each i-th day\n",
    "#     dp = [0.0] * (days + 1)\n",
    "#     dp[0] = 1.0  # Base case: 0 days, 0 rainy days, probability is 1\n",
    "    \n",
    "#     for i in range(days):\n",
    "#         # Update dp in reverse to avoid overwriting\n",
    "#         for k in range(i, -1, -1):\n",
    "#             dp[k + 1] += dp[k] * p[i]  # Probability of rain on day i\n",
    "#             dp[k] *= (1 - p[i])        # Probability of no rain on day i\n",
    "    \n",
    "#     # Sum up the probabilities for more than n rainy days\n",
    "#     return sum(dp[i] for i in range(n + 1, days + 1))"
   ]
  },
  {
   "cell_type": "code",
   "execution_count": 104,
   "metadata": {},
   "outputs": [],
   "source": [
    "def prob_rain_more_than_n(p: Sequence[float], n: int) -> float:\n",
    "    total_days = len(p)\n",
    "    trials = 10000\n",
    "    \n",
    "    # Run multiple simulations\n",
    "    simulations = np.random.rand(trials, total_days) < p  # Generate random weather\n",
    "    rainy_days_per_trial = np.sum(simulations, axis=1)     # Count rainy days per trial\n",
    "    \n",
    "    # Count how many trials had more than n rainy days\n",
    "    successful_trials = np.sum(rainy_days_per_trial > n)\n",
    "    \n",
    "    # Return the fraction of successful trials as the probability\n",
    "    return successful_trials / trials"
   ]
  },
  {
   "cell_type": "code",
   "execution_count": 103,
   "metadata": {},
   "outputs": [
    {
     "name": "stdout",
     "output_type": "stream",
     "text": [
      "365\n",
      "Test Case 1 - Probability of more than 100 rainy days: 0.846800\n",
      "365\n",
      "Test Case 2 - Probability of more than 180 rainy days: 0.635400\n",
      "365\n",
      "Test Case 3 - Probability of more than 100 rainy days: 0.904300\n"
     ]
    }
   ],
   "source": [
    "# Function to generate a list of probabilities between 0.1 and 0.5\n",
    "def generate_probabilities(min_value: float, max_value: float, days: int) -> List[float]:\n",
    "    return [random.uniform(min_value, max_value) for _ in range(days)]\n",
    "\n",
    "# Test case 1: Probability of rain is 0.3 on each day\n",
    "p_1 = [0.3] * 365\n",
    "n_1 = 100\n",
    "result_1 = prob_rain_more_than_n(p_1, n_1)\n",
    "print(f\"Test Case 1 - Probability of more than {n_1} rainy days: {result_1:.6f}\")\n",
    "\n",
    "# Test case 2: Probability of rain varies between 0.1 and 0.9\n",
    "p_2 = [0.1, 0.9] * (365 // 2) + [0.5]  # alternating 0.1 and 0.9, with last day 0.5\n",
    "n_2 = 180\n",
    "result_2 = prob_rain_more_than_n(p_2, n_2)\n",
    "print(f\"Test Case 2 - Probability of more than {n_2} rainy days: {result_2:.6f}\")\n",
    "\n",
    "# Test case 3: Probability of rain varies between 0.1 and 0.5\n",
    "p_3 = generate_probabilities(0.1, 0.5, 365)  # 365 probabilities between 0.1 and 0.5\n",
    "n_3 = 100\n",
    "result_3 = prob_rain_more_than_n(p_3, n_3)\n",
    "print(f\"Test Case 3 - Probability of more than {n_3} rainy days: {result_3:.6f}\")\n",
    "\n"
   ]
  }
 ],
 "metadata": {
  "kernelspec": {
   "display_name": "Python 3",
   "language": "python",
   "name": "python3"
  },
  "language_info": {
   "codemirror_mode": {
    "name": "ipython",
    "version": 3
   },
   "file_extension": ".py",
   "mimetype": "text/x-python",
   "name": "python",
   "nbconvert_exporter": "python",
   "pygments_lexer": "ipython3",
   "version": "3.11.6"
  },
  "orig_nbformat": 4
 },
 "nbformat": 4,
 "nbformat_minor": 2
}
